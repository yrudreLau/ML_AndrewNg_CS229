{
 "cells": [
  {
   "cell_type": "markdown",
   "metadata": {},
   "source": [
    "- **Handwritting numbers detection** --Neural network back-propagation"
   ]
  },
  {
   "cell_type": "code",
   "execution_count": 1,
   "metadata": {
    "ExecuteTime": {
     "end_time": "2020-10-11T03:35:57.907418Z",
     "start_time": "2020-10-11T03:35:56.126428Z"
    }
   },
   "outputs": [],
   "source": [
    "import numpy as np\n",
    "import matplotlib.pyplot as plt\n",
    "import matplotlib\n",
    "import scipy.io as sio\n",
    "import scipy.optimize as opt\n",
    "from sklearn import datasets\n",
    "from sklearn.metrics import classification_report"
   ]
  },
  {
   "cell_type": "markdown",
   "metadata": {},
   "source": [
    "# Load dataset"
   ]
  },
  {
   "cell_type": "code",
   "execution_count": 2,
   "metadata": {
    "ExecuteTime": {
     "end_time": "2020-10-11T03:35:58.257024Z",
     "start_time": "2020-10-11T03:35:58.019638Z"
    }
   },
   "outputs": [],
   "source": [
    "digits = datasets.load_digits()"
   ]
  },
  {
   "cell_type": "code",
   "execution_count": 3,
   "metadata": {
    "ExecuteTime": {
     "end_time": "2020-10-11T03:35:58.382025Z",
     "start_time": "2020-10-11T03:35:58.369289Z"
    }
   },
   "outputs": [
    {
     "data": {
      "text/plain": [
       "sklearn.utils.Bunch"
      ]
     },
     "execution_count": 3,
     "metadata": {},
     "output_type": "execute_result"
    }
   ],
   "source": [
    "type(digits)"
   ]
  },
  {
   "cell_type": "code",
   "execution_count": 4,
   "metadata": {
    "ExecuteTime": {
     "end_time": "2020-10-11T03:35:58.542370Z",
     "start_time": "2020-10-11T03:35:58.529756Z"
    }
   },
   "outputs": [
    {
     "name": "stdout",
     "output_type": "stream",
     "text": [
      "digits.keys() =  dict_keys(['data', 'target', 'target_names', 'images', 'DESCR'])\n"
     ]
    }
   ],
   "source": [
    "print('digits.keys() = ', digits.keys())"
   ]
  },
  {
   "cell_type": "markdown",
   "metadata": {},
   "source": [
    "- Digits is a handwritting number dataset, it is a bunch type dataset, which inherits from the dictionary class.\n",
    "- Digits contains data, target, target_names, images and DESCR"
   ]
  },
  {
   "cell_type": "code",
   "execution_count": 5,
   "metadata": {
    "ExecuteTime": {
     "end_time": "2020-10-11T03:35:59.023054Z",
     "start_time": "2020-10-11T03:35:58.686282Z"
    }
   },
   "outputs": [
    {
     "data": {
      "text/plain": [
       "<matplotlib.image.AxesImage at 0x1cc2d9a8dc8>"
      ]
     },
     "execution_count": 5,
     "metadata": {},
     "output_type": "execute_result"
    },
    {
     "data": {
      "image/png": "[encoded data removed]",
      "text/plain": [
       "<Figure size 432x288 with 1 Axes>"
      ]
     },
     "metadata": {
      "needs_background": "light"
     },
     "output_type": "display_data"
    }
   ],
   "source": [
    "#plt.gray()\n",
    "plt.imshow(digits.images[0])"
   ]
  },
  {
   "cell_type": "code",
   "execution_count": 6,
   "metadata": {
    "ExecuteTime": {
     "end_time": "2020-10-11T03:35:59.194610Z",
     "start_time": "2020-10-11T03:35:59.165949Z"
    }
   },
   "outputs": [
    {
     "name": "stdout",
     "output_type": "stream",
     "text": [
      "digits.data.shape =  (1797, 64)\n",
      "digits.target.shape =  (1797,)\n",
      "digits.target =  [0 1 2 ... 8 9 8]\n",
      "digits.target_names.shape =  (10,)\n",
      "digits.target_names =  [0 1 2 3 4 5 6 7 8 9]\n",
      "digits.images.shape =  (1797, 8, 8)\n"
     ]
    }
   ],
   "source": [
    "print('digits.data.shape = ', digits.data.shape)\n",
    "print('digits.target.shape = ', digits.target.shape)\n",
    "print('digits.target = ', digits.target)\n",
    "print('digits.target_names.shape = ', digits.target_names.shape)\n",
    "print('digits.target_names = ', digits.target_names)\n",
    "print('digits.images.shape = ', digits.images.shape)\n",
    "#print('digits.images = ', digits.images)"
   ]
  },
  {
   "cell_type": "code",
   "execution_count": 7,
   "metadata": {
    "ExecuteTime": {
     "end_time": "2020-10-11T03:36:04.391418Z",
     "start_time": "2020-10-11T03:35:59.330816Z"
    }
   },
   "outputs": [
    {
     "data": {
      "image/png": "[encoded data removed]",
      "text/plain": [
       "<Figure size 720x720 with 100 Axes>"
      ]
     },
     "metadata": {
      "needs_background": "light"
     },
     "output_type": "display_data"
    }
   ],
   "source": [
    "#check the first one hundred images\n",
    "_, axes = plt.subplots(10,10,figsize = (10,10))\n",
    "axes = [item for subl in axes for item in subl]\n",
    "\n",
    "for i, ax in enumerate(axes):\n",
    "    img = digits.images[i]\n",
    "    ax.imshow(img, cmap=\"gray\")\n",
    "    ax.axis('off')"
   ]
  },
  {
   "cell_type": "code",
   "execution_count": 8,
   "metadata": {
    "ExecuteTime": {
     "end_time": "2020-10-11T03:36:04.656277Z",
     "start_time": "2020-10-11T03:36:04.628019Z"
    }
   },
   "outputs": [],
   "source": [
    "def onehot_y(y):\n",
    "#     \"\"\"expand 5000*1 into 5000*10\n",
    "#     where y=10 -> [0, 0, 0, 0, 0, 0, 0, 0, 0, 1]: ndarray\n",
    "#     \"\"\"\n",
    "    res = []\n",
    "    for i in y:\n",
    "        y_array = np.zeros(10)\n",
    "        y_array[i - 1] = 1\n",
    "\n",
    "        res.append(y_array)\n",
    "\n",
    "    return np.array(res)\n",
    "# from sklearn.preprocessing import OneHotEncoder\n",
    "# encoder = OneHotEncoder(sparse=False)\n",
    "# y_onehot = encoder.fit_transform(y)\n",
    "# y_onehot.shape #这个函数与expand_y(y)一致"
   ]
  },
  {
   "cell_type": "code",
   "execution_count": 9,
   "metadata": {
    "ExecuteTime": {
     "end_time": "2020-10-11T03:36:06.455231Z",
     "start_time": "2020-10-11T03:36:06.427880Z"
    }
   },
   "outputs": [
    {
     "data": {
      "text/plain": [
       "array([[0., 0., 0., ..., 0., 0., 1.],\n",
       "       [1., 0., 0., ..., 0., 0., 0.],\n",
       "       [0., 1., 0., ..., 0., 0., 0.],\n",
       "       ...,\n",
       "       [0., 0., 0., ..., 1., 0., 0.],\n",
       "       [0., 0., 0., ..., 0., 1., 0.],\n",
       "       [0., 0., 0., ..., 1., 0., 0.]])"
      ]
     },
     "execution_count": 9,
     "metadata": {},
     "output_type": "execute_result"
    }
   ],
   "source": [
    "y_onehot = onehot_y(digits.target)\n",
    "y_onehot"
   ]
  },
  {
   "cell_type": "markdown",
   "metadata": {},
   "source": [
    "<img style=\"float: left;\" src=\"NN.png\">"
   ]
  },
  {
   "cell_type": "markdown",
   "metadata": {},
   "source": [
    "Thus, our neural network has an input layer that matches the size of our instance data, which have more than 64 bias units (with one extra bias unit), a hidden layer with 25 cells (26 bias units), and a output layer with 10 cells."
   ]
  },
  {
   "cell_type": "code",
   "execution_count": 10,
   "metadata": {
    "ExecuteTime": {
     "end_time": "2020-10-11T03:36:07.940787Z",
     "start_time": "2020-10-11T03:36:07.916670Z"
    }
   },
   "outputs": [],
   "source": [
    "weights = sio.loadmat('ex4weights.mat')"
   ]
  },
  {
   "cell_type": "code",
   "execution_count": 11,
   "metadata": {
    "ExecuteTime": {
     "end_time": "2020-10-11T03:36:08.405043Z",
     "start_time": "2020-10-11T03:36:08.389929Z"
    }
   },
   "outputs": [],
   "source": [
    "theta1, theta2 = weights['Theta1'], weights['Theta2']"
   ]
  },
  {
   "cell_type": "code",
   "execution_count": 12,
   "metadata": {
    "ExecuteTime": {
     "end_time": "2020-10-11T03:36:08.937894Z",
     "start_time": "2020-10-11T03:36:08.919662Z"
    }
   },
   "outputs": [
    {
     "data": {
      "text/plain": [
       "((25, 401), (10, 26))"
      ]
     },
     "execution_count": 12,
     "metadata": {},
     "output_type": "execute_result"
    }
   ],
   "source": [
    "theta1.shape, theta2.shape"
   ]
  },
  {
   "cell_type": "code",
   "execution_count": 13,
   "metadata": {
    "ExecuteTime": {
     "end_time": "2020-10-11T03:36:09.723180Z",
     "start_time": "2020-10-11T03:36:09.704926Z"
    }
   },
   "outputs": [],
   "source": [
    "theta1 = theta1[:, :65]"
   ]
  },
  {
   "cell_type": "code",
   "execution_count": 14,
   "metadata": {
    "ExecuteTime": {
     "end_time": "2020-10-11T03:36:10.705635Z",
     "start_time": "2020-10-11T03:36:10.680896Z"
    }
   },
   "outputs": [
    {
     "data": {
      "text/plain": [
       "(25, 65)"
      ]
     },
     "execution_count": 14,
     "metadata": {},
     "output_type": "execute_result"
    }
   ],
   "source": [
    "theta1.shape"
   ]
  },
  {
   "cell_type": "code",
   "execution_count": 15,
   "metadata": {
    "ExecuteTime": {
     "end_time": "2020-10-11T03:36:11.155637Z",
     "start_time": "2020-10-11T03:36:11.144779Z"
    }
   },
   "outputs": [],
   "source": [
    "def serialize(a, b):\n",
    "  \n",
    "    return np.concatenate((np.ravel(a), np.ravel(b)))"
   ]
  },
  {
   "cell_type": "code",
   "execution_count": 16,
   "metadata": {
    "ExecuteTime": {
     "end_time": "2020-10-11T03:36:11.940638Z",
     "start_time": "2020-10-11T03:36:11.932413Z"
    }
   },
   "outputs": [],
   "source": [
    "theta = serialize(theta1, theta2)"
   ]
  },
  {
   "cell_type": "code",
   "execution_count": 17,
   "metadata": {
    "ExecuteTime": {
     "end_time": "2020-10-11T03:36:12.387720Z",
     "start_time": "2020-10-11T03:36:12.377537Z"
    }
   },
   "outputs": [
    {
     "data": {
      "text/plain": [
       "(1885,)"
      ]
     },
     "execution_count": 17,
     "metadata": {},
     "output_type": "execute_result"
    }
   ],
   "source": [
    "theta.shape"
   ]
  },
  {
   "cell_type": "markdown",
   "metadata": {},
   "source": [
    "# Forward-propagation and cost function"
   ]
  },
  {
   "cell_type": "markdown",
   "metadata": {},
   "source": [
    "## Sigmoid function"
   ]
  },
  {
   "cell_type": "code",
   "execution_count": 18,
   "metadata": {
    "ExecuteTime": {
     "end_time": "2020-10-11T03:36:13.655011Z",
     "start_time": "2020-10-11T03:36:13.646659Z"
    }
   },
   "outputs": [],
   "source": [
    "def sigmoid(z):\n",
    "    return 1.0 / (1.0 + np.exp(-z))"
   ]
  },
  {
   "cell_type": "markdown",
   "metadata": {},
   "source": [
    "## Forward propagation"
   ]
  },
  {
   "cell_type": "code",
   "execution_count": 19,
   "metadata": {
    "ExecuteTime": {
     "end_time": "2020-10-11T03:36:14.573706Z",
     "start_time": "2020-10-11T03:36:14.564371Z"
    }
   },
   "outputs": [],
   "source": [
    "def deserialize(seq):\n",
    "#     \"\"\"into ndarray of (25, 65), (10, 26)\"\"\"\n",
    "    return seq[:25*65].reshape(25, 65), seq[25*65:].reshape(10, 26)"
   ]
  },
  {
   "cell_type": "code",
   "execution_count": 20,
   "metadata": {
    "ExecuteTime": {
     "end_time": "2020-10-11T03:36:15.005828Z",
     "start_time": "2020-10-11T03:36:14.985085Z"
    }
   },
   "outputs": [],
   "source": [
    "def forward_propagation(theta, X):\n",
    "    \n",
    "    theta1, theta2 = deserialize(theta)\n",
    "    m = X.shape[0]\n",
    "    a1 = X\n",
    "    \n",
    "    z2 = a1 @ theta1.T\n",
    "    a2 = np.insert(sigmoid(z2), 0, np.ones(m), axis=1)\n",
    "    \n",
    "    z3 = a2 @ theta2.T\n",
    "    h = sigmoid(z3)\n",
    "    \n",
    "    return a1, z2, a2, z3, h"
   ]
  },
  {
   "cell_type": "markdown",
   "metadata": {
    "ExecuteTime": {
     "end_time": "2020-10-11T02:18:56.666783Z",
     "start_time": "2020-10-11T02:18:56.654037Z"
    }
   },
   "source": [
    "INIT_EPSILON = 0.0001\n",
    "\n",
    "Theta1 = np.random.rand(25,65) * (2 * INIT_EPSILON) - INIT_EPSILON\n",
    "Theta2 = np.random.rand(10,26) * (2 * INIT_EPSILON) - INIT_EPSILON"
   ]
  },
  {
   "cell_type": "code",
   "execution_count": 23,
   "metadata": {
    "ExecuteTime": {
     "end_time": "2020-10-11T03:36:33.549598Z",
     "start_time": "2020-10-11T03:36:33.537734Z"
    }
   },
   "outputs": [],
   "source": [
    "X = np.insert(digits.data, 0, np.ones(digits.data.shape[0]), axis=1)\n",
    "y = y_onehot"
   ]
  },
  {
   "cell_type": "code",
   "execution_count": 24,
   "metadata": {
    "ExecuteTime": {
     "end_time": "2020-10-11T03:36:34.335519Z",
     "start_time": "2020-10-11T03:36:34.310817Z"
    }
   },
   "outputs": [
    {
     "data": {
      "text/plain": [
       "(1797, 65)"
      ]
     },
     "execution_count": 24,
     "metadata": {},
     "output_type": "execute_result"
    }
   ],
   "source": [
    "X.shape"
   ]
  },
  {
   "cell_type": "code",
   "execution_count": 25,
   "metadata": {
    "ExecuteTime": {
     "end_time": "2020-10-11T03:36:34.831297Z",
     "start_time": "2020-10-11T03:36:34.814596Z"
    }
   },
   "outputs": [],
   "source": [
    "a,b,c,d, h = forward_propagation(theta, X)"
   ]
  },
  {
   "cell_type": "code",
   "execution_count": 26,
   "metadata": {
    "ExecuteTime": {
     "end_time": "2020-10-11T03:36:35.289048Z",
     "start_time": "2020-10-11T03:36:35.270391Z"
    }
   },
   "outputs": [
    {
     "data": {
      "text/plain": [
       "((1797, 65), (1797, 25), (1797, 26), (1797, 10))"
      ]
     },
     "execution_count": 26,
     "metadata": {},
     "output_type": "execute_result"
    }
   ],
   "source": [
    "a.shape, b.shape, c.shape, d.shape"
   ]
  },
  {
   "cell_type": "markdown",
   "metadata": {},
   "source": [
    "## cost function \n",
    "### without regularization term\n",
    "\n",
    "$$J(\\theta)=\\frac{1}{m}\\sum\\limits_{i=1}^{m}\\sum\\limits_{k=1}^{K}\\big [-y_k^{(i)}log((h_{\\theta}(x^{(i)}))_k)-(1-y_k^{(i)})log(1-(h_{\\theta}(x^{(i)}))_k)\\big ]$$"
   ]
  },
  {
   "cell_type": "code",
   "execution_count": 27,
   "metadata": {
    "ExecuteTime": {
     "end_time": "2020-10-11T03:36:36.147985Z",
     "start_time": "2020-10-11T03:36:36.122294Z"
    }
   },
   "outputs": [],
   "source": [
    "def cost_fun(theta, X, y):\n",
    "    \"\"\"\n",
    "    y:(m, k) ndarray\n",
    "    \"\"\"\n",
    "    m = X.shape[0] #get the data size\n",
    "    \n",
    "    _, _, _, _, h = forward_propagation(theta, X)\n",
    "    \n",
    "    # np.multiply is pairwise operation\n",
    "    pair_computation = -np.multiply(y, np.log(h)) - np.multiply((1-y), np.log(1-h))\n",
    "    \n",
    "    return pair_computation.sum() / m"
   ]
  },
  {
   "cell_type": "code",
   "execution_count": 28,
   "metadata": {
    "ExecuteTime": {
     "end_time": "2020-10-11T03:36:36.551401Z",
     "start_time": "2020-10-11T03:36:36.532039Z"
    }
   },
   "outputs": [
    {
     "data": {
      "text/plain": [
       "10.159511964367717"
      ]
     },
     "execution_count": 28,
     "metadata": {},
     "output_type": "execute_result"
    }
   ],
   "source": [
    "cost_fun(theta, X, y)"
   ]
  },
  {
   "cell_type": "markdown",
   "metadata": {},
   "source": [
    "### with regularization term\n",
    "\n",
    "$$\\begin{aligned}\n",
    "J(\\theta)=&\\frac{1}{m}\\sum\\limits_{i=1}^{m}\\sum\\limits_{k=1}^{K}\\Big [-y_k^{(i)}log((h_{\\theta}(x^{(i)}))_k)-(1-y_k^{(i)})log(1-(h_{\\theta}(x^{(i)}))_k)\\Big ]\\\\&+\\frac{\\lambda}{2m}\\Big [\\sum\\limits_{j=1}^{25}\\sum\\limits_{k=1}^{64}(\\Theta_{j,k}^{(1)})^2+\\sum\\limits_{j=1}^{10}\\sum\\limits_{k=1}^{25}(\\Theta_{j,k}^{(2)})^2\\Big ]\\end{aligned}$$"
   ]
  },
  {
   "cell_type": "code",
   "execution_count": 29,
   "metadata": {
    "ExecuteTime": {
     "end_time": "2020-10-11T03:36:37.719088Z",
     "start_time": "2020-10-11T03:36:37.708172Z"
    }
   },
   "outputs": [],
   "source": [
    "def regularized_cost_fun(theta, X, y, l=0.5):\n",
    "    theta1, theta2 = deserialize(theta)\n",
    "    m = X.shape[0]\n",
    "    \n",
    "    reg_theta1 = (1.0 / (2.0 * m)) * np.power(theta1[:, 1:], 2).sum()\n",
    "    reg_theta2 = (1.0 / (2.0 * m)) * np.power(theta2[:, 1:], 2).sum()\n",
    "    \n",
    "    return cost_fun(theta, X, y) + reg_theta1 + reg_theta2"
   ]
  },
  {
   "cell_type": "code",
   "execution_count": 30,
   "metadata": {
    "ExecuteTime": {
     "end_time": "2020-10-11T03:36:38.568667Z",
     "start_time": "2020-10-11T03:36:38.544537Z"
    }
   },
   "outputs": [
    {
     "data": {
      "text/plain": [
       "10.318394521588505"
      ]
     },
     "execution_count": 30,
     "metadata": {},
     "output_type": "execute_result"
    }
   ],
   "source": [
    "regularized_cost_fun(theta, X, y)"
   ]
  },
  {
   "cell_type": "markdown",
   "metadata": {},
   "source": [
    "# Back-propagation"
   ]
  },
  {
   "cell_type": "code",
   "execution_count": 31,
   "metadata": {
    "ExecuteTime": {
     "end_time": "2020-10-11T03:36:39.914760Z",
     "start_time": "2020-10-11T03:36:39.902184Z"
    }
   },
   "outputs": [
    {
     "data": {
      "text/plain": [
       "((1797, 65), (1797, 10))"
      ]
     },
     "execution_count": 31,
     "metadata": {},
     "output_type": "execute_result"
    }
   ],
   "source": [
    "X.shape, y.shape"
   ]
  },
  {
   "cell_type": "code",
   "execution_count": 32,
   "metadata": {
    "ExecuteTime": {
     "end_time": "2020-10-11T03:36:40.366263Z",
     "start_time": "2020-10-11T03:36:40.348774Z"
    }
   },
   "outputs": [
    {
     "data": {
      "text/plain": [
       "((25, 65), (10, 26))"
      ]
     },
     "execution_count": 32,
     "metadata": {},
     "output_type": "execute_result"
    }
   ],
   "source": [
    "theta1.shape, theta2.shape"
   ]
  },
  {
   "cell_type": "code",
   "execution_count": 33,
   "metadata": {
    "ExecuteTime": {
     "end_time": "2020-10-11T03:36:40.947606Z",
     "start_time": "2020-10-11T03:36:40.929462Z"
    }
   },
   "outputs": [
    {
     "data": {
      "text/plain": [
       "(1885,)"
      ]
     },
     "execution_count": 33,
     "metadata": {},
     "output_type": "execute_result"
    }
   ],
   "source": [
    "theta.shape"
   ]
  },
  {
   "cell_type": "code",
   "execution_count": 34,
   "metadata": {
    "ExecuteTime": {
     "end_time": "2020-10-11T03:36:41.431455Z",
     "start_time": "2020-10-11T03:36:41.414254Z"
    }
   },
   "outputs": [],
   "source": [
    "def sigmoid_gradient(z):\n",
    "    \"\"\"\n",
    "    pairwise op is key for this to work on both vector and matrix\n",
    "    \"\"\"\n",
    "    return np.multiply(sigmoid(z), 1 - sigmoid(z))"
   ]
  },
  {
   "cell_type": "markdown",
   "metadata": {},
   "source": [
    "## Theta gradient"
   ]
  },
  {
   "cell_type": "code",
   "execution_count": 35,
   "metadata": {
    "ExecuteTime": {
     "end_time": "2020-10-11T03:36:42.884052Z",
     "start_time": "2020-10-11T03:36:42.867298Z"
    }
   },
   "outputs": [],
   "source": [
    "def theta_gradient(theta, X, y):\n",
    "    #initialize\n",
    "    theta1, theta2 = deserialize(theta)\n",
    "    m = X.shape[0]\n",
    "    \n",
    "    delta1 = np.zeros(theta1.shape)\n",
    "    delta2 = np.zeros(theta2.shape)\n",
    "    \n",
    "    a1, z2, a2, z3, h = forward_propagation(theta, X)\n",
    "    \n",
    "    for i in range(m):\n",
    "        a1i = a1[i, :]  # (1, 65)\n",
    "        z2i = z2[i, :]  # (1, 25)\n",
    "        a2i = a2[i, :]  # (1, 26)\n",
    "\n",
    "        hi = h[i, :]    # (1, 10)\n",
    "        yi = y[i, :]    # (1, 10)\n",
    "\n",
    "        d3i = hi - yi  # (1, 10)\n",
    "\n",
    "        z2i = np.insert(z2i, 0, np.ones(1))  # make it (1, 26) to compute d2i\n",
    "        d2i = np.multiply(theta2.T @ d3i, sigmoid_gradient(z2i))  # (1, 26)\n",
    "\n",
    "        # careful with np vector transpose\n",
    "        delta2 += np.matrix(d3i).T @ np.matrix(a2i)  # (1, 10).T @ (1, 26) -> (10, 26)\n",
    "        delta1 += np.matrix(d2i[1:]).T @ np.matrix(a1i)  # (1, 25).T @ (1, 401) -> (25, 65)\n",
    "\n",
    "    delta1 = delta1 / m\n",
    "    delta2 = delta2 / m\n",
    "\n",
    "    return serialize(delta1, delta2)"
   ]
  },
  {
   "cell_type": "markdown",
   "metadata": {},
   "source": [
    "## Gradient calibration\n",
    "\n",
    "$$f_i(\\theta) \\approx \\frac{J(\\theta^{(i+)})-J(\\theta^{(i-)})}{2\\epsilon}$$"
   ]
  },
  {
   "cell_type": "code",
   "execution_count": 36,
   "metadata": {
    "ExecuteTime": {
     "end_time": "2020-10-11T03:36:44.234011Z",
     "start_time": "2020-10-11T03:36:44.218036Z"
    }
   },
   "outputs": [],
   "source": [
    "def expand_array(arr):\n",
    "    \"\"\"replicate array into matrix\n",
    "    [1, 2, 3]\n",
    "\n",
    "    [[1, 2, 3],\n",
    "     [1, 2, 3],\n",
    "     [1, 2, 3]]\n",
    "    \"\"\"\n",
    "    # turn matrix back to ndarray\n",
    "    return np.array(np.matrix(np.ones(arr.shape[0])).T @ np.matrix(arr))\n",
    "\n",
    "def gradient_checking(theta, X, y, epsilon, regularized=False):\n",
    "    def a_numeric_grad(plus, minus, regularized=False):\n",
    "        \"\"\"calculate a partial gradient with respect to 1 theta\"\"\"\n",
    "        if regularized:\n",
    "            return (regularized_cost_fun(plus, X, y) - regularized_cost_fun(minus, X, y)) / (epsilon * 2)\n",
    "        else:\n",
    "            return (cost_fun(plus, X, y) - cost_fun(minus, X, y)) / (epsilon * 2)\n",
    "\n",
    "    theta_matrix = expand_array(theta)  # expand to (1885,1885)\n",
    "#     print(theta_matrix.shape)\n",
    "    epsilon_matrix = np.identity(len(theta)) * epsilon\n",
    "\n",
    "    plus_matrix = theta_matrix + epsilon_matrix\n",
    "    minus_matrix = theta_matrix - epsilon_matrix\n",
    "\n",
    "    # calculate numerical gradient with respect to all theta\n",
    "    numeric_grad = np.array([a_numeric_grad(plus_matrix[i], minus_matrix[i], regularized)\n",
    "                                    for i in range(len(theta))])\n",
    "\n",
    "    # analytical grad will depend on if you want it to be regularized or not\n",
    "    analytic_grad = regularized_gradient(theta, X, y) if regularized else theta_gradient(theta, X, y)\n",
    "\n",
    "    # If you have a correct implementation, and assuming you used EPSILON = 0.0001\n",
    "    # the diff below should be less than 1e-9\n",
    "    # this is how original matlab code do gradient checking\n",
    "    diff = np.linalg.norm(numeric_grad - analytic_grad) / np.linalg.norm(numeric_grad + analytic_grad)\n",
    "\n",
    "    print('If your backpropagation implementation is correct,\\nthe relative difference will be smaller than 10e-9 (assume epsilon=0.0001).\\nRelative Difference: {}\\n'.format(diff))\n"
   ]
  },
  {
   "cell_type": "code",
   "execution_count": 39,
   "metadata": {
    "ExecuteTime": {
     "end_time": "2020-10-11T03:37:35.082095Z",
     "start_time": "2020-10-11T03:37:35.069367Z"
    }
   },
   "outputs": [],
   "source": [
    "def regularized_gradient(theta, X, y, l=1):\n",
    "    \"\"\"don't regularize theta of bias terms\"\"\"\n",
    "    m = X.shape[0]\n",
    "    delta1, delta2 = deserialize(theta_gradient(theta, X, y))\n",
    "    theta1, theta2 = deserialize(theta)\n",
    "\n",
    "    theta1[:, 0] = 0\n",
    "    reg_term_d1 = (l / m) * theta1\n",
    "    delta1 = delta1 + reg_term_d1\n",
    "\n",
    "    theta2[:, 0] = 0\n",
    "    reg_term_d2 = (l / m) * theta2\n",
    "    delta2 = delta2 + reg_term_d2\n",
    "\n",
    "    return serialize(delta1, delta2)"
   ]
  },
  {
   "cell_type": "code",
   "execution_count": 40,
   "metadata": {
    "ExecuteTime": {
     "end_time": "2020-10-11T03:37:42.763140Z",
     "start_time": "2020-10-11T03:37:35.427611Z"
    }
   },
   "outputs": [
    {
     "name": "stdout",
     "output_type": "stream",
     "text": [
      "If your backpropagation implementation is correct,\n",
      "the relative difference will be smaller than 10e-9 (assume epsilon=0.0001).\n",
      "Relative Difference: 3.897433399688515e-08\n",
      "\n"
     ]
    }
   ],
   "source": [
    "gradient_checking(theta, X, y, epsilon= 0.0001, regularized=True)#这个运行很慢，谨慎运行"
   ]
  },
  {
   "cell_type": "markdown",
   "metadata": {},
   "source": [
    "## define back propagation function"
   ]
  },
  {
   "cell_type": "markdown",
   "metadata": {
    "ExecuteTime": {
     "end_time": "2020-10-11T02:21:16.932412Z",
     "start_time": "2020-10-11T02:21:16.908701Z"
    }
   },
   "source": [
    "def backpropagation(params, input_size, hidden_size, num_labels, X, y, learning_rate):\n",
    "    m = X.shape[0]\n",
    "    X = np.matrix(X)\n",
    "    y = np.matrix(y)\n",
    "    \n",
    "    # reshape the parameter array into parameter matrices for each layer\n",
    "#     theta1 = np.matrix(np.reshape(params[:hidden_size * (input_size)], (hidden_size, (input_size))))\n",
    "#     theta2 = np.matrix(np.reshape(params[hidden_size * (input_size):], (num_labels, (hidden_size))))\n",
    "    theta1, theta2 = deserialize(theta, theta_dimensions)\n",
    "    \n",
    "    # run the feed-forward pass\n",
    "    a1, z2, a2, z3, h = forward_propagation(theta, X)\n",
    "    \n",
    "    # initializations\n",
    "    J = 0\n",
    "    delta1 = np.zeros(theta1.shape)  # (25, 401)\n",
    "    delta2 = np.zeros(theta2.shape)  # (10, 26)\n",
    "    \n",
    "    # compute the cost\n",
    "    for i in range(m):\n",
    "        first_term = np.multiply(-y[i,:], np.log(h[i,:]))\n",
    "        second_term = np.multiply((1 - y[i,:]), np.log(1 - h[i,:]))\n",
    "        J += np.sum(first_term - second_term)\n",
    "    \n",
    "    J = J / m\n",
    "    \n",
    "    # add the cost regularization term\n",
    "    J += (float(learning_rate) / (2 * m)) * (np.sum(np.power(theta1[:,1:], 2)) + np.sum(np.power(theta2[:,1:], 2)))\n",
    "    \n",
    "    # perform backpropagation\n",
    "    for t in range(m):\n",
    "        a1t = a1[t,:]  # (1, 401)\n",
    "        z2t = z2[t,:]  # (1, 25)\n",
    "        a2t = a2[t,:]  # (1, 26)\n",
    "        ht = h[t,:]  # (1, 10)\n",
    "        yt = y[t,:]  # (1, 10)\n",
    "        \n",
    "        d3t = ht - yt  # (1, 10)\n",
    "        \n",
    "        z2t = np.insert(z2t, 0, values=np.ones(1))  # (1, 26)\n",
    "        d2t = np.multiply((theta2.T * d3t.T).T, sigmoid_gradient(z2t))  # (1, 26)\n",
    "        \n",
    "        delta1 = delta1 + (d2t[:,1:]).T * a1t\n",
    "        delta2 = delta2 + d3t.T * a2t\n",
    "        \n",
    "    delta1 = delta1 / m\n",
    "    delta2 = delta2 / m\n",
    "    \n",
    "    # add the gradient regularization term\n",
    "    delta1[:,1:] = delta1[:,1:] + (theta1[:,1:] * learning_rate) / m\n",
    "    delta2[:,1:] = delta2[:,1:] + (theta2[:,1:] * learning_rate) / m\n",
    "    \n",
    "    # unravel the gradient matrices into a single array\n",
    "    grad = np.concatenate((np.ravel(delta1), np.ravel(delta2)))\n",
    "    \n",
    "    return J, grad"
   ]
  },
  {
   "cell_type": "markdown",
   "metadata": {
    "ExecuteTime": {
     "end_time": "2020-10-11T02:48:26.417374Z",
     "start_time": "2020-10-11T02:48:25.720679Z"
    }
   },
   "source": [
    "J, grad = backpropagation(theta, theta_dimensions[1], theta_dimensions[0], theta_dimensions[2], X, y, learning_rate=0.5)\n",
    "J, grad.shape"
   ]
  },
  {
   "cell_type": "markdown",
   "metadata": {},
   "source": [
    "# Ready to train the model"
   ]
  },
  {
   "cell_type": "markdown",
   "metadata": {
    "ExecuteTime": {
     "end_time": "2020-10-11T02:49:42.606843Z",
     "start_time": "2020-10-11T02:49:04.287390Z"
    }
   },
   "source": [
    "from scipy.optimize import minimize\n",
    "\n",
    "# minimize the objective function\n",
    "fmin = minimize(fun=backpropagation, x0=theta, args=(65, 25, 10, X, y, 1), \n",
    "                method='TNC', jac=True, options={'maxiter': 500})\n",
    "fmin"
   ]
  },
  {
   "cell_type": "markdown",
   "metadata": {
    "ExecuteTime": {
     "end_time": "2020-10-11T02:49:53.027633Z",
     "start_time": "2020-10-11T02:49:53.001004Z"
    }
   },
   "source": [
    "X = np.matrix(X)\n",
    "theta1 = np.matrix(np.reshape(fmin.x[:25 * 65], (25, 65)))\n",
    "theta2 = np.matrix(np.reshape(fmin.x[25 * (65):], (10, 26)))\n",
    "\n",
    "a1, z2, a2, z3, h = forward_propagation(theta, X)\n",
    "y_pred = np.array(np.argmax(h, axis=1))\n",
    "y_pred"
   ]
  },
  {
   "cell_type": "markdown",
   "metadata": {
    "ExecuteTime": {
     "end_time": "2020-10-11T02:49:56.271583Z",
     "start_time": "2020-10-11T02:49:56.247313Z"
    }
   },
   "source": [
    "(y_pred-7).sum()"
   ]
  },
  {
   "cell_type": "markdown",
   "metadata": {
    "ExecuteTime": {
     "end_time": "2020-10-11T02:49:57.410647Z",
     "start_time": "2020-10-11T02:49:57.380788Z"
    }
   },
   "source": [
    "correct = [1 if a == b else 0 for (a, b) in zip(y_pred, digits.target)]\n",
    "accuracy = (sum(map(int, correct)) / float(len(correct)))\n",
    "print ('accuracy = {0}%'.format(accuracy * 100))"
   ]
  },
  {
   "cell_type": "markdown",
   "metadata": {
    "ExecuteTime": {
     "end_time": "2020-10-11T02:49:57.786140Z",
     "start_time": "2020-10-11T02:49:57.768364Z"
    }
   },
   "source": [
    "digits.target"
   ]
  },
  {
   "cell_type": "code",
   "execution_count": 45,
   "metadata": {
    "ExecuteTime": {
     "end_time": "2020-10-11T03:40:42.569520Z",
     "start_time": "2020-10-11T03:40:42.558289Z"
    }
   },
   "outputs": [],
   "source": [
    "def random_init(size):\n",
    "    return np.random.uniform(-0.12, 0.12, size)\n",
    "\n",
    "def nn_training(X, y):\n",
    "    \"\"\"regularized version\n",
    "    the architecture is hard coded here... won't generalize\n",
    "    \"\"\"\n",
    "    init_theta = random_init(1885)  # 25*65 + 10*26\n",
    "\n",
    "    res = opt.minimize(fun=regularized_cost_fun,\n",
    "                       x0=init_theta,\n",
    "                       args=(X, y, 1),\n",
    "                       method='TNC',\n",
    "                       jac=regularized_gradient,\n",
    "                       options={'maxiter': 400})\n",
    "    return res"
   ]
  },
  {
   "cell_type": "code",
   "execution_count": 46,
   "metadata": {
    "ExecuteTime": {
     "end_time": "2020-10-11T03:43:40.110168Z",
     "start_time": "2020-10-11T03:40:42.917790Z"
    }
   },
   "outputs": [
    {
     "data": {
      "text/plain": [
       "     fun: 0.32149994336714655\n",
       "     jac: array([-1.45231274e-25, -2.73026603e-06,  5.47698090e-06, ...,\n",
       "       -2.85393915e-05, -1.48354594e-04,  1.44029471e-04])\n",
       " message: 'Max. number of function evaluations reached'\n",
       "    nfev: 400\n",
       "     nit: 47\n",
       "  status: 3\n",
       " success: False\n",
       "       x: array([ 0.        , -0.00490629,  0.00984213, ...,  2.36558945,\n",
       "       -0.2665932 , -0.6328561 ])"
      ]
     },
     "execution_count": 46,
     "metadata": {},
     "output_type": "execute_result"
    }
   ],
   "source": [
    "res = nn_training(X, y)#慢\n",
    "res"
   ]
  },
  {
   "cell_type": "code",
   "execution_count": 47,
   "metadata": {
    "ExecuteTime": {
     "end_time": "2020-10-11T03:44:11.787109Z",
     "start_time": "2020-10-11T03:44:11.776136Z"
    }
   },
   "outputs": [],
   "source": [
    "final_theta = res.x"
   ]
  },
  {
   "cell_type": "code",
   "execution_count": 52,
   "metadata": {
    "ExecuteTime": {
     "end_time": "2020-10-11T03:45:06.107538Z",
     "start_time": "2020-10-11T03:45:06.094580Z"
    }
   },
   "outputs": [],
   "source": [
    "def show_accuracy(theta, X, y):\n",
    "    _, _, _, _, h = forward_propagation(theta, X)\n",
    "\n",
    "    y_pred = np.argmax(h, axis=1) + 1\n",
    "\n",
    "    print(classification_report(y, onehot_y(y_pred)))"
   ]
  },
  {
   "cell_type": "code",
   "execution_count": 56,
   "metadata": {
    "ExecuteTime": {
     "end_time": "2020-10-11T03:47:30.637630Z",
     "start_time": "2020-10-11T03:47:30.491239Z"
    }
   },
   "outputs": [],
   "source": [
    "test = sio.loadmat('ex4data1.mat')"
   ]
  },
  {
   "cell_type": "code",
   "execution_count": 60,
   "metadata": {
    "ExecuteTime": {
     "end_time": "2020-10-11T03:48:35.322791Z",
     "start_time": "2020-10-11T03:48:35.308017Z"
    }
   },
   "outputs": [
    {
     "data": {
      "text/plain": [
       "(400,)"
      ]
     },
     "execution_count": 60,
     "metadata": {},
     "output_type": "execute_result"
    }
   ],
   "source": [
    "test['X'][0].shape"
   ]
  },
  {
   "cell_type": "code",
   "execution_count": 62,
   "metadata": {
    "ExecuteTime": {
     "end_time": "2020-10-11T03:51:15.716942Z",
     "start_time": "2020-10-11T03:51:15.706646Z"
    }
   },
   "outputs": [
    {
     "data": {
      "text/plain": [
       "6.25"
      ]
     },
     "execution_count": 62,
     "metadata": {},
     "output_type": "execute_result"
    }
   ],
   "source": [
    "400/64"
   ]
  },
  {
   "cell_type": "code",
   "execution_count": 66,
   "metadata": {
    "ExecuteTime": {
     "end_time": "2020-10-11T03:51:46.942213Z",
     "start_time": "2020-10-11T03:51:46.917103Z"
    }
   },
   "outputs": [
    {
     "data": {
      "text/plain": [
       "(64,)"
      ]
     },
     "execution_count": 66,
     "metadata": {},
     "output_type": "execute_result"
    }
   ],
   "source": [
    "test['X'][0][::6][:-3].shape"
   ]
  },
  {
   "cell_type": "code",
   "execution_count": 67,
   "metadata": {
    "ExecuteTime": {
     "end_time": "2020-10-11T03:52:00.439890Z",
     "start_time": "2020-10-11T03:52:00.171813Z"
    }
   },
   "outputs": [
    {
     "data": {
      "text/plain": [
       "<matplotlib.image.AxesImage at 0x1cc31cdbfc8>"
      ]
     },
     "execution_count": 67,
     "metadata": {},
     "output_type": "execute_result"
    },
    {
     "data": {
      "image/png": "[encoded data removed]",
      "text/plain": [
       "<Figure size 432x288 with 1 Axes>"
      ]
     },
     "metadata": {
      "needs_background": "light"
     },
     "output_type": "display_data"
    }
   ],
   "source": [
    "plt.imshow(test['X'][0][::6][:-3].reshape(8,8))"
   ]
  },
  {
   "cell_type": "code",
   "execution_count": 53,
   "metadata": {
    "ExecuteTime": {
     "end_time": "2020-10-11T03:45:07.289783Z",
     "start_time": "2020-10-11T03:45:07.246354Z"
    }
   },
   "outputs": [
    {
     "name": "stdout",
     "output_type": "stream",
     "text": [
      "              precision    recall  f1-score   support\n",
      "\n",
      "           0       1.00      1.00      1.00       182\n",
      "           1       1.00      1.00      1.00       177\n",
      "           2       0.99      1.00      0.99       183\n",
      "           3       0.99      1.00      1.00       181\n",
      "           4       1.00      1.00      1.00       182\n",
      "           5       1.00      0.99      0.99       181\n",
      "           6       0.99      1.00      0.99       179\n",
      "           7       0.99      0.99      0.99       174\n",
      "           8       1.00      0.98      0.99       180\n",
      "           9       1.00      1.00      1.00       178\n",
      "\n",
      "   micro avg       1.00      1.00      1.00      1797\n",
      "   macro avg       1.00      1.00      1.00      1797\n",
      "weighted avg       1.00      1.00      1.00      1797\n",
      " samples avg       1.00      1.00      1.00      1797\n",
      "\n"
     ]
    }
   ],
   "source": [
    "show_accuracy(final_theta, X, y)"
   ]
  },
  {
   "cell_type": "markdown",
   "metadata": {},
   "source": [
    "# Show the hidden layer"
   ]
  },
  {
   "cell_type": "code",
   "execution_count": 77,
   "metadata": {
    "ExecuteTime": {
     "end_time": "2020-10-11T02:12:30.907094Z",
     "start_time": "2020-10-11T02:12:30.889998Z"
    }
   },
   "outputs": [],
   "source": [
    "def plot_hidden_layer(theta):\n",
    "    \"\"\"\n",
    "    theta: (size, )\n",
    "    \"\"\"\n",
    "    final_theta1, _ = deserialize(theta, theta_dimensions)\n",
    "    hidden_layer = final_theta1[:, 1:]  # ger rid of bias term theta\n",
    "\n",
    "    fig, ax_array = plt.subplots(nrows=5, ncols=5, sharey=True, sharex=True, figsize=(5, 5))\n",
    "\n",
    "    for r in range(5):\n",
    "        for c in range(5):\n",
    "            ax_array[r, c].matshow(hidden_layer[5 * r + c].reshape((8, 8)),\n",
    "                                   cmap=matplotlib.cm.binary)\n",
    "            plt.xticks(np.array([]))\n",
    "            plt.yticks(np.array([]))\n",
    "\n",
    "\n",
    "# nn functions starts here ---------------------------\n",
    "# ps. all the y here is expanded version (5000,10)"
   ]
  },
  {
   "cell_type": "code",
   "execution_count": 117,
   "metadata": {
    "ExecuteTime": {
     "end_time": "2020-10-11T02:23:06.092369Z",
     "start_time": "2020-10-11T02:23:06.077862Z"
    }
   },
   "outputs": [],
   "source": [
    "final_theta = fmin.x"
   ]
  },
  {
   "cell_type": "code",
   "execution_count": 118,
   "metadata": {
    "ExecuteTime": {
     "end_time": "2020-10-11T02:23:08.619204Z",
     "start_time": "2020-10-11T02:23:07.369944Z"
    }
   },
   "outputs": [
    {
     "data": {
      "image/png": "[encoded data removed]",
      "text/plain": [
       "<Figure size 360x360 with 25 Axes>"
      ]
     },
     "metadata": {},
     "output_type": "display_data"
    }
   ],
   "source": [
    "plot_hidden_layer(final_theta)\n",
    "plt.show()"
   ]
  },
  {
   "cell_type": "code",
   "execution_count": null,
   "metadata": {},
   "outputs": [],
   "source": []
  }
 ],
 "metadata": {
  "kernelspec": {
   "display_name": "Python 3",
   "language": "python",
   "name": "python3"
  },
  "language_info": {
   "codemirror_mode": {
    "name": "ipython",
    "version": 3
   },
   "file_extension": ".py",
   "mimetype": "text/x-python",
   "name": "python",
   "nbconvert_exporter": "python",
   "pygments_lexer": "ipython3",
   "version": "3.7.4"
  },
  "toc": {
   "base_numbering": 1,
   "nav_menu": {},
   "number_sections": true,
   "sideBar": true,
   "skip_h1_title": false,
   "title_cell": "Table of Contents",
   "title_sidebar": "Contents",
   "toc_cell": false,
   "toc_position": {
    "height": "calc(100% - 180px)",
    "left": "10px",
    "top": "150px",
    "width": "218.2px"
   },
   "toc_section_display": true,
   "toc_window_display": false
  },
  "varInspector": {
   "cols": {
    "lenName": 16,
    "lenType": 16,
    "lenVar": 40
   },
   "kernels_config": {
    "python": {
     "delete_cmd_postfix": "",
     "delete_cmd_prefix": "del ",
     "library": "var_list.py",
     "varRefreshCmd": "print(var_dic_list())"
    },
    "r": {
     "delete_cmd_postfix": ") ",
     "delete_cmd_prefix": "rm(",
     "library": "var_list.r",
     "varRefreshCmd": "cat(var_dic_list()) "
    }
   },
   "types_to_exclude": [
    "module",
    "function",
    "builtin_function_or_method",
    "instance",
    "_Feature"
   ],
   "window_display": false
  }
 },
 "nbformat": 4,
 "nbformat_minor": 2
}
